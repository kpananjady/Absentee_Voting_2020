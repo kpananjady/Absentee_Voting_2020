{
 "cells": [
  {
   "cell_type": "markdown",
   "metadata": {},
   "source": [
    "# What this file does"
   ]
  },
  {
   "cell_type": "markdown",
   "metadata": {},
   "source": [
    "It joins datasets of 1) absentee ballots processed by party affiliation by town for 2020, 2) Population by town and 3) COVID cases, hospitalizations and deaths by town (current as of Sept 27)"
   ]
  },
  {
   "cell_type": "markdown",
   "metadata": {},
   "source": [
    "# Preliminary Findings"
   ]
  },
  {
   "cell_type": "markdown",
   "metadata": {},
   "source": [
    "- The average number of absentee ballots per town is 1144. West Hartford and Norwalk top the list with over 10,000 AB ballots.\n",
    "- Approx 3x Dems registered to vote by Absentee Ballot when compared to Republicans; 2x Independents\n",
    "- COVID cases and deaths, when expressed as a rate of the population, barely correlate with absentee ballots when expressed as a rate of the population. When you don't adjust voting or COVID spread by population you do see a correlation, but that's driven by the population. \n",
    "\n",
    "\n"
   ]
  },
  {
   "cell_type": "markdown",
   "metadata": {},
   "source": [
    "# Further work"
   ]
  },
  {
   "cell_type": "markdown",
   "metadata": {},
   "source": [
    "Questions:\n",
    "- Rosenberg says that this data is pulled of the Connecticut Voter Registration System, so towns are required to input this data as they process applications. Towns that haven't processed any absentee ballots are generally smaller, but I want to call the larger ones in the sample and figure out if they're dealing with backlogs\n",
    "- Need to express Democratic and Republican use of Absentee Ballots are % of Registered Voters in each party by town to properly compare them. Asked Rosenberg for this data\n",
    "- Absentee Ballot voting not being linked to COVID spread — even though they're easier to access bc of COVID — suggests that party affiliation is actually what's driving uptake of AB voting in various towns. Can do this analysis when I get the data from Rosenberg\n",
    "- Trends in Republican/Democratic control of town?"
   ]
  },
  {
   "cell_type": "code",
   "execution_count": 1,
   "metadata": {},
   "outputs": [],
   "source": [
    "import pandas as pd"
   ]
  },
  {
   "cell_type": "markdown",
   "metadata": {},
   "source": [
    "# Data reading and cleaning"
   ]
  },
  {
   "cell_type": "code",
   "execution_count": 2,
   "metadata": {},
   "outputs": [],
   "source": [
    "df = pd.read_excel('ABs Processed by Town and by Party as of 9-28.xlsx')"
   ]
  },
  {
   "cell_type": "code",
   "execution_count": 41,
   "metadata": {},
   "outputs": [
    {
     "data": {
      "text/plain": [
       "Index(['Town Name ', 'ABs Processed for Registered Democrats',\n",
       "       'ABs Processed for Registered Republicans',\n",
       "       'ABs Processed for Registered Unaffiliated Voters',\n",
       "       'ABs Processed for  Voters Registered in Other Parties',\n",
       "       'Total ABs Processed'],\n",
       "      dtype='object')"
      ]
     },
     "execution_count": 41,
     "metadata": {},
     "output_type": "execute_result"
    }
   ],
   "source": [
    "df.columns"
   ]
  },
  {
   "cell_type": "code",
   "execution_count": null,
   "metadata": {},
   "outputs": [],
   "source": [
    "df['Town Name'] = df['Town Name '].str.strip()"
   ]
  },
  {
   "cell_type": "markdown",
   "metadata": {},
   "source": [
    "# Absentee Ballots Processed by Town"
   ]
  },
  {
   "cell_type": "code",
   "execution_count": 11,
   "metadata": {},
   "outputs": [
    {
     "data": {
      "text/plain": [
       "<AxesSubplot:>"
      ]
     },
     "execution_count": 11,
     "metadata": {},
     "output_type": "execute_result"
    },
    {
     "data": {
      "image/png": "[encoded data removed]",
      "text/plain": [
       "<Figure size 432x288 with 1 Axes>"
      ]
     },
     "metadata": {
      "needs_background": "light"
     },
     "output_type": "display_data"
    }
   ],
   "source": [
    "df['Total ABs Processed'].drop(169).hist()"
   ]
  },
  {
   "cell_type": "code",
   "execution_count": 114,
   "metadata": {},
   "outputs": [
    {
     "data": {
      "text/plain": [
       "1144.0"
      ]
     },
     "execution_count": 114,
     "metadata": {},
     "output_type": "execute_result"
    }
   ],
   "source": [
    "df['Total ABs Processed'].drop(169).median()"
   ]
  },
  {
   "cell_type": "code",
   "execution_count": 143,
   "metadata": {},
   "outputs": [
    {
     "data": {
      "text/html": [
       "<div>\n",
       "<style scoped>\n",
       "    .dataframe tbody tr th:only-of-type {\n",
       "        vertical-align: middle;\n",
       "    }\n",
       "\n",
       "    .dataframe tbody tr th {\n",
       "        vertical-align: top;\n",
       "    }\n",
       "\n",
       "    .dataframe thead th {\n",
       "        text-align: right;\n",
       "    }\n",
       "</style>\n",
       "<table border=\"1\" class=\"dataframe\">\n",
       "  <thead>\n",
       "    <tr style=\"text-align: right;\">\n",
       "      <th></th>\n",
       "      <th>Town Name</th>\n",
       "      <th>ABs Processed for Registered Democrats</th>\n",
       "      <th>ABs Processed for Registered Republicans</th>\n",
       "      <th>ABs Processed for Registered Unaffiliated Voters</th>\n",
       "      <th>ABs Processed for  Voters Registered in Other Parties</th>\n",
       "      <th>Total ABs Processed</th>\n",
       "      <th>Town Name</th>\n",
       "      <th>Death_rate_per_100000</th>\n",
       "    </tr>\n",
       "  </thead>\n",
       "  <tbody>\n",
       "    <tr>\n",
       "      <th>154</th>\n",
       "      <td>West Hartford</td>\n",
       "      <td>8351</td>\n",
       "      <td>1489</td>\n",
       "      <td>3584</td>\n",
       "      <td>164</td>\n",
       "      <td>13588</td>\n",
       "      <td>West Hartford</td>\n",
       "      <td>214.404828</td>\n",
       "    </tr>\n",
       "    <tr>\n",
       "      <th>102</th>\n",
       "      <td>Norwalk</td>\n",
       "      <td>5858</td>\n",
       "      <td>1460</td>\n",
       "      <td>3700</td>\n",
       "      <td>229</td>\n",
       "      <td>11247</td>\n",
       "      <td>Norwalk</td>\n",
       "      <td>166.636642</td>\n",
       "    </tr>\n",
       "    <tr>\n",
       "      <th>50</th>\n",
       "      <td>Fairfield</td>\n",
       "      <td>4725</td>\n",
       "      <td>1796</td>\n",
       "      <td>3320</td>\n",
       "      <td>135</td>\n",
       "      <td>9976</td>\n",
       "      <td>Fairfield</td>\n",
       "      <td>233.701346</td>\n",
       "    </tr>\n",
       "    <tr>\n",
       "      <th>134</th>\n",
       "      <td>Stamford</td>\n",
       "      <td>5165</td>\n",
       "      <td>1295</td>\n",
       "      <td>2512</td>\n",
       "      <td>187</td>\n",
       "      <td>9159</td>\n",
       "      <td>Stamford</td>\n",
       "      <td>155.818510</td>\n",
       "    </tr>\n",
       "    <tr>\n",
       "      <th>61</th>\n",
       "      <td>Hamden</td>\n",
       "      <td>5044</td>\n",
       "      <td>596</td>\n",
       "      <td>2069</td>\n",
       "      <td>74</td>\n",
       "      <td>7783</td>\n",
       "      <td>Hamden</td>\n",
       "      <td>237.796420</td>\n",
       "    </tr>\n",
       "    <tr>\n",
       "      <th>83</th>\n",
       "      <td>Milford</td>\n",
       "      <td>3489</td>\n",
       "      <td>1176</td>\n",
       "      <td>2946</td>\n",
       "      <td>132</td>\n",
       "      <td>7743</td>\n",
       "      <td>Milford</td>\n",
       "      <td>164.392569</td>\n",
       "    </tr>\n",
       "    <tr>\n",
       "      <th>33</th>\n",
       "      <td>Danbury</td>\n",
       "      <td>3372</td>\n",
       "      <td>1158</td>\n",
       "      <td>2572</td>\n",
       "      <td>132</td>\n",
       "      <td>7234</td>\n",
       "      <td>Danbury</td>\n",
       "      <td>145.228706</td>\n",
       "    </tr>\n",
       "    <tr>\n",
       "      <th>150</th>\n",
       "      <td>Waterbury</td>\n",
       "      <td>3960</td>\n",
       "      <td>831</td>\n",
       "      <td>2139</td>\n",
       "      <td>102</td>\n",
       "      <td>7032</td>\n",
       "      <td>Waterbury</td>\n",
       "      <td>161.758144</td>\n",
       "    </tr>\n",
       "    <tr>\n",
       "      <th>53</th>\n",
       "      <td>Glastonbury</td>\n",
       "      <td>3185</td>\n",
       "      <td>1093</td>\n",
       "      <td>2269</td>\n",
       "      <td>69</td>\n",
       "      <td>6616</td>\n",
       "      <td>Glastonbury</td>\n",
       "      <td>237.805232</td>\n",
       "    </tr>\n",
       "    <tr>\n",
       "      <th>76</th>\n",
       "      <td>Manchester</td>\n",
       "      <td>3422</td>\n",
       "      <td>762</td>\n",
       "      <td>1863</td>\n",
       "      <td>101</td>\n",
       "      <td>6148</td>\n",
       "      <td>Manchester</td>\n",
       "      <td>184.078911</td>\n",
       "    </tr>\n",
       "  </tbody>\n",
       "</table>\n",
       "</div>"
      ],
      "text/plain": [
       "               Town Name   ABs Processed for Registered Democrats  \\\n",
       "154  West Hartford                                           8351   \n",
       "102  Norwalk                                                 5858   \n",
       "50   Fairfield                                               4725   \n",
       "134  Stamford                                                5165   \n",
       "61   Hamden                                                  5044   \n",
       "83   Milford                                                 3489   \n",
       "33   Danbury                                                 3372   \n",
       "150  Waterbury                                               3960   \n",
       "53   Glastonbury                                             3185   \n",
       "76   Manchester                                              3422   \n",
       "\n",
       "     ABs Processed for Registered Republicans  \\\n",
       "154                                      1489   \n",
       "102                                      1460   \n",
       "50                                       1796   \n",
       "134                                      1295   \n",
       "61                                        596   \n",
       "83                                       1176   \n",
       "33                                       1158   \n",
       "150                                       831   \n",
       "53                                       1093   \n",
       "76                                        762   \n",
       "\n",
       "     ABs Processed for Registered Unaffiliated Voters  \\\n",
       "154                                              3584   \n",
       "102                                              3700   \n",
       "50                                               3320   \n",
       "134                                              2512   \n",
       "61                                               2069   \n",
       "83                                               2946   \n",
       "33                                               2572   \n",
       "150                                              2139   \n",
       "53                                               2269   \n",
       "76                                               1863   \n",
       "\n",
       "     ABs Processed for  Voters Registered in Other Parties  \\\n",
       "154                                                164       \n",
       "102                                                229       \n",
       "50                                                 135       \n",
       "134                                                187       \n",
       "61                                                  74       \n",
       "83                                                 132       \n",
       "33                                                 132       \n",
       "150                                                102       \n",
       "53                                                  69       \n",
       "76                                                 101       \n",
       "\n",
       "     Total ABs Processed      Town Name  Death_rate_per_100000  \n",
       "154                13588  West Hartford             214.404828  \n",
       "102                11247        Norwalk             166.636642  \n",
       "50                  9976      Fairfield             233.701346  \n",
       "134                 9159       Stamford             155.818510  \n",
       "61                  7783         Hamden             237.796420  \n",
       "83                  7743        Milford             164.392569  \n",
       "33                  7234        Danbury             145.228706  \n",
       "150                 7032      Waterbury             161.758144  \n",
       "53                  6616    Glastonbury             237.805232  \n",
       "76                  6148     Manchester             184.078911  "
      ]
     },
     "execution_count": 143,
     "metadata": {},
     "output_type": "execute_result"
    }
   ],
   "source": [
    "df.drop(169).sort_values(by='Total ABs Processed', ascending=False).head(10)"
   ]
  },
  {
   "cell_type": "markdown",
   "metadata": {},
   "source": [
    "# COVID data"
   ]
  },
  {
   "cell_type": "code",
   "execution_count": 14,
   "metadata": {},
   "outputs": [],
   "source": [
    "df_2 = pd.read_csv('COVID-19_Tests__Cases__and_Deaths__By_Town_.csv')"
   ]
  },
  {
   "cell_type": "code",
   "execution_count": 17,
   "metadata": {},
   "outputs": [],
   "source": [
    "df_Sept27 = df_2[df_2['Last update date']=='09/27/2020']"
   ]
  },
  {
   "cell_type": "code",
   "execution_count": 83,
   "metadata": {},
   "outputs": [
    {
     "data": {
      "text/plain": [
       "57000"
      ]
     },
     "execution_count": 83,
     "metadata": {},
     "output_type": "execute_result"
    }
   ],
   "source": [
    "df_Sept27['Total cases '].sum()"
   ]
  },
  {
   "cell_type": "code",
   "execution_count": 35,
   "metadata": {},
   "outputs": [],
   "source": [
    "df_covid = df_Sept27[['Total cases ','Case rate','Total deaths','Town']]"
   ]
  },
  {
   "cell_type": "code",
   "execution_count": 57,
   "metadata": {},
   "outputs": [],
   "source": [
    "df_final = df_covid.merge(df, left_on='Town', right_on='Town Name')"
   ]
  },
  {
   "cell_type": "code",
   "execution_count": 60,
   "metadata": {},
   "outputs": [
    {
     "data": {
      "text/plain": [
       "<AxesSubplot:xlabel='Total ABs Processed', ylabel='Total cases '>"
      ]
     },
     "execution_count": 60,
     "metadata": {},
     "output_type": "execute_result"
    },
    {
     "data": {
      "image/png": "[encoded data removed]",
      "text/plain": [
       "<Figure size 432x288 with 1 Axes>"
      ]
     },
     "metadata": {
      "needs_background": "light"
     },
     "output_type": "display_data"
    }
   ],
   "source": [
    "df_final.plot(y='Total cases ', x='Total ABs Processed', kind='scatter')"
   ]
  },
  {
   "cell_type": "code",
   "execution_count": 72,
   "metadata": {},
   "outputs": [
    {
     "data": {
      "text/plain": [
       "0.519100244851777"
      ]
     },
     "execution_count": 72,
     "metadata": {},
     "output_type": "execute_result"
    }
   ],
   "source": [
    "df_final['Total cases '][df_final['Total ABs Processed']>0].corr(df['Total ABs Processed'])"
   ]
  },
  {
   "cell_type": "code",
   "execution_count": 62,
   "metadata": {},
   "outputs": [
    {
     "data": {
      "text/plain": [
       "<AxesSubplot:xlabel='Total ABs Processed', ylabel='Total deaths'>"
      ]
     },
     "execution_count": 62,
     "metadata": {},
     "output_type": "execute_result"
    },
    {
     "data": {
      "image/png": "[encoded data removed]",
      "text/plain": [
       "<Figure size 432x288 with 1 Axes>"
      ]
     },
     "metadata": {
      "needs_background": "light"
     },
     "output_type": "display_data"
    }
   ],
   "source": [
    "df_final.plot(y='Total deaths', x='Total ABs Processed', kind='scatter')"
   ]
  },
  {
   "cell_type": "code",
   "execution_count": 68,
   "metadata": {},
   "outputs": [
    {
     "data": {
      "text/plain": [
       "<AxesSubplot:xlabel='Total ABs Processed', ylabel='Total deaths'>"
      ]
     },
     "execution_count": 68,
     "metadata": {},
     "output_type": "execute_result"
    },
    {
     "data": {
      "image/png": "[encoded data removed]",
      "text/plain": [
       "<Figure size 432x288 with 1 Axes>"
      ]
     },
     "metadata": {
      "needs_background": "light"
     },
     "output_type": "display_data"
    }
   ],
   "source": [
    "df_final[df_final['Total ABs Processed']>0].plot(y='Total deaths', x='Total ABs Processed', kind='scatter')"
   ]
  },
  {
   "cell_type": "code",
   "execution_count": 65,
   "metadata": {},
   "outputs": [
    {
     "data": {
      "text/plain": [
       "0.6511709592102711"
      ]
     },
     "execution_count": 65,
     "metadata": {},
     "output_type": "execute_result"
    }
   ],
   "source": [
    "df_final['Total deaths'].corr(df['Total ABs Processed'])"
   ]
  },
  {
   "cell_type": "code",
   "execution_count": 69,
   "metadata": {},
   "outputs": [
    {
     "data": {
      "text/plain": [
       "0.6440612901206262"
      ]
     },
     "execution_count": 69,
     "metadata": {},
     "output_type": "execute_result"
    }
   ],
   "source": [
    "df_final[df_final['Total ABs Processed']>0]['Total deaths'].corr(df['Total ABs Processed'])"
   ]
  },
  {
   "cell_type": "code",
   "execution_count": 66,
   "metadata": {},
   "outputs": [
    {
     "data": {
      "text/plain": [
       "<AxesSubplot:xlabel='Total ABs Processed', ylabel='Case rate'>"
      ]
     },
     "execution_count": 66,
     "metadata": {},
     "output_type": "execute_result"
    },
    {
     "data": {
      "image/png": "[encoded data removed]",
      "text/plain": [
       "<Figure size 432x288 with 1 Axes>"
      ]
     },
     "metadata": {
      "needs_background": "light"
     },
     "output_type": "display_data"
    }
   ],
   "source": [
    "df_final.plot(y='Case rate', x='Total ABs Processed', kind='scatter')"
   ]
  },
  {
   "cell_type": "code",
   "execution_count": 67,
   "metadata": {},
   "outputs": [
    {
     "data": {
      "text/plain": [
       "0.5225759909708498"
      ]
     },
     "execution_count": 67,
     "metadata": {},
     "output_type": "execute_result"
    }
   ],
   "source": [
    "df_final['Case rate'].corr(df['Total ABs Processed'])"
   ]
  },
  {
   "cell_type": "markdown",
   "metadata": {},
   "source": [
    "# Population data"
   ]
  },
  {
   "cell_type": "code",
   "execution_count": 95,
   "metadata": {},
   "outputs": [],
   "source": [
    "df_pop = pd.read_csv('population_2019.csv')"
   ]
  },
  {
   "cell_type": "code",
   "execution_count": 99,
   "metadata": {},
   "outputs": [],
   "source": [
    "df_final = df_pop.merge(df_final)"
   ]
  },
  {
   "cell_type": "code",
   "execution_count": 103,
   "metadata": {},
   "outputs": [],
   "source": [
    "df_final['Population'] = df_final['Population'].str.replace(',','').astype(int)"
   ]
  },
  {
   "cell_type": "code",
   "execution_count": 109,
   "metadata": {},
   "outputs": [],
   "source": [
    "df_final['Death_rate_per_100000'] = 100000*df_final['Total deaths']/df_final['Population']"
   ]
  },
  {
   "cell_type": "code",
   "execution_count": 112,
   "metadata": {},
   "outputs": [
    {
     "data": {
      "text/plain": [
       "<AxesSubplot:xlabel='Total ABs Processed', ylabel='Population'>"
      ]
     },
     "execution_count": 112,
     "metadata": {},
     "output_type": "execute_result"
    },
    {
     "data": {
      "image/png": "[encoded data removed]",
      "text/plain": [
       "<Figure size 432x288 with 1 Axes>"
      ]
     },
     "metadata": {
      "needs_background": "light"
     },
     "output_type": "display_data"
    }
   ],
   "source": [
    "df_final.plot(y='Population', x='Total ABs Processed', kind='scatter')"
   ]
  },
  {
   "cell_type": "code",
   "execution_count": 128,
   "metadata": {},
   "outputs": [
    {
     "data": {
      "text/plain": [
       "0.6791817808021627"
      ]
     },
     "execution_count": 128,
     "metadata": {},
     "output_type": "execute_result"
    }
   ],
   "source": [
    "df_final['Population'].corr(df_final['Total ABs Processed'])"
   ]
  },
  {
   "cell_type": "code",
   "execution_count": 125,
   "metadata": {},
   "outputs": [],
   "source": [
    "df_final['Total_ABs_per_100000']=100000*df_final['Total ABs Processed']/df_final['Population']"
   ]
  },
  {
   "cell_type": "code",
   "execution_count": 130,
   "metadata": {},
   "outputs": [
    {
     "data": {
      "text/plain": [
       "0.28142436526082976"
      ]
     },
     "execution_count": 130,
     "metadata": {},
     "output_type": "execute_result"
    }
   ],
   "source": [
    "df_final['Death_rate_per_100000'].corr(df_final['Total_ABs_per_100000'])"
   ]
  },
  {
   "cell_type": "code",
   "execution_count": 132,
   "metadata": {},
   "outputs": [
    {
     "data": {
      "text/plain": [
       "-0.033279185483109534"
      ]
     },
     "execution_count": 132,
     "metadata": {},
     "output_type": "execute_result"
    }
   ],
   "source": [
    "df_final['Case rate'].corr(df_final['Total_ABs_per_100000'])"
   ]
  },
  {
   "cell_type": "code",
   "execution_count": 137,
   "metadata": {},
   "outputs": [
    {
     "data": {
      "text/plain": [
       "<AxesSubplot:xlabel='Total ABs Processed', ylabel='Population'>"
      ]
     },
     "execution_count": 137,
     "metadata": {},
     "output_type": "execute_result"
    },
    {
     "data": {
      "image/png": "[encoded data removed]",
      "text/plain": [
       "<Figure size 432x288 with 1 Axes>"
      ]
     },
     "metadata": {
      "needs_background": "light"
     },
     "output_type": "display_data"
    }
   ],
   "source": [
    "df_final[(df_final['ABs Processed for Registered Republicans']==0)|(df_final['ABs Processed for Registered Democrats']==0)|(df_final['ABs Processed for Registered Unaffiliated Voters']==0)|(df_final['ABs Processed for  Voters Registered in Other Parties']==0)|(df_final['Total ABs Processed']==0)].plot(y='Population', x='Total ABs Processed', kind='scatter')\n",
    "\n"
   ]
  },
  {
   "cell_type": "code",
   "execution_count": 141,
   "metadata": {},
   "outputs": [
    {
     "data": {
      "text/html": [
       "<div>\n",
       "<style scoped>\n",
       "    .dataframe tbody tr th:only-of-type {\n",
       "        vertical-align: middle;\n",
       "    }\n",
       "\n",
       "    .dataframe tbody tr th {\n",
       "        vertical-align: top;\n",
       "    }\n",
       "\n",
       "    .dataframe thead th {\n",
       "        text-align: right;\n",
       "    }\n",
       "</style>\n",
       "<table border=\"1\" class=\"dataframe\">\n",
       "  <thead>\n",
       "    <tr style=\"text-align: right;\">\n",
       "      <th></th>\n",
       "      <th>Town</th>\n",
       "      <th>Population</th>\n",
       "      <th>Total cases</th>\n",
       "      <th>Case rate</th>\n",
       "      <th>Total deaths</th>\n",
       "      <th>Town Name</th>\n",
       "      <th>ABs Processed for Registered Democrats</th>\n",
       "      <th>ABs Processed for Registered Republicans</th>\n",
       "      <th>ABs Processed for Registered Unaffiliated Voters</th>\n",
       "      <th>ABs Processed for  Voters Registered in Other Parties</th>\n",
       "      <th>Total ABs Processed</th>\n",
       "      <th>Town Name</th>\n",
       "      <th>Death_rate_per_100000</th>\n",
       "      <th>Total_ABs_per_100000</th>\n",
       "    </tr>\n",
       "  </thead>\n",
       "  <tbody>\n",
       "    <tr>\n",
       "      <th>153</th>\n",
       "      <td>Westbrook</td>\n",
       "      <td>6869</td>\n",
       "      <td>38</td>\n",
       "      <td>550.0</td>\n",
       "      <td>0</td>\n",
       "      <td>Westbrook</td>\n",
       "      <td>0</td>\n",
       "      <td>2</td>\n",
       "      <td>1</td>\n",
       "      <td>0</td>\n",
       "      <td>3</td>\n",
       "      <td>Westbrook</td>\n",
       "      <td>0.000000</td>\n",
       "      <td>43.674480</td>\n",
       "    </tr>\n",
       "    <tr>\n",
       "      <th>149</th>\n",
       "      <td>Washington</td>\n",
       "      <td>3428</td>\n",
       "      <td>30</td>\n",
       "      <td>874.0</td>\n",
       "      <td>2</td>\n",
       "      <td>Washington</td>\n",
       "      <td>0</td>\n",
       "      <td>0</td>\n",
       "      <td>0</td>\n",
       "      <td>0</td>\n",
       "      <td>0</td>\n",
       "      <td>Washington</td>\n",
       "      <td>58.343057</td>\n",
       "      <td>0.000000</td>\n",
       "    </tr>\n",
       "    <tr>\n",
       "      <th>99</th>\n",
       "      <td>North Canaan</td>\n",
       "      <td>3251</td>\n",
       "      <td>12</td>\n",
       "      <td>369.0</td>\n",
       "      <td>1</td>\n",
       "      <td>North Canaan</td>\n",
       "      <td>0</td>\n",
       "      <td>0</td>\n",
       "      <td>0</td>\n",
       "      <td>0</td>\n",
       "      <td>0</td>\n",
       "      <td>North Canaan</td>\n",
       "      <td>30.759766</td>\n",
       "      <td>0.000000</td>\n",
       "    </tr>\n",
       "    <tr>\n",
       "      <th>0</th>\n",
       "      <td>Andover</td>\n",
       "      <td>3236</td>\n",
       "      <td>10</td>\n",
       "      <td>310.0</td>\n",
       "      <td>0</td>\n",
       "      <td>Andover</td>\n",
       "      <td>0</td>\n",
       "      <td>0</td>\n",
       "      <td>0</td>\n",
       "      <td>0</td>\n",
       "      <td>0</td>\n",
       "      <td>Andover</td>\n",
       "      <td>0.000000</td>\n",
       "      <td>0.000000</td>\n",
       "    </tr>\n",
       "    <tr>\n",
       "      <th>12</th>\n",
       "      <td>Bozrah</td>\n",
       "      <td>2726</td>\n",
       "      <td>16</td>\n",
       "      <td>631.0</td>\n",
       "      <td>1</td>\n",
       "      <td>Bozrah</td>\n",
       "      <td>0</td>\n",
       "      <td>0</td>\n",
       "      <td>0</td>\n",
       "      <td>0</td>\n",
       "      <td>0</td>\n",
       "      <td>Bozrah</td>\n",
       "      <td>36.683786</td>\n",
       "      <td>0.000000</td>\n",
       "    </tr>\n",
       "    <tr>\n",
       "      <th>86</th>\n",
       "      <td>Morris</td>\n",
       "      <td>2254</td>\n",
       "      <td>15</td>\n",
       "      <td>663.0</td>\n",
       "      <td>0</td>\n",
       "      <td>Morris</td>\n",
       "      <td>0</td>\n",
       "      <td>0</td>\n",
       "      <td>0</td>\n",
       "      <td>0</td>\n",
       "      <td>0</td>\n",
       "      <td>Morris</td>\n",
       "      <td>0.000000</td>\n",
       "      <td>0.000000</td>\n",
       "    </tr>\n",
       "    <tr>\n",
       "      <th>52</th>\n",
       "      <td>Franklin</td>\n",
       "      <td>1920</td>\n",
       "      <td>18</td>\n",
       "      <td>931.0</td>\n",
       "      <td>0</td>\n",
       "      <td>Franklin</td>\n",
       "      <td>0</td>\n",
       "      <td>0</td>\n",
       "      <td>0</td>\n",
       "      <td>0</td>\n",
       "      <td>0</td>\n",
       "      <td>Franklin</td>\n",
       "      <td>0.000000</td>\n",
       "      <td>0.000000</td>\n",
       "    </tr>\n",
       "    <tr>\n",
       "      <th>62</th>\n",
       "      <td>Hampton</td>\n",
       "      <td>1842</td>\n",
       "      <td>8</td>\n",
       "      <td>432.0</td>\n",
       "      <td>0</td>\n",
       "      <td>Hampton</td>\n",
       "      <td>4</td>\n",
       "      <td>0</td>\n",
       "      <td>1</td>\n",
       "      <td>0</td>\n",
       "      <td>5</td>\n",
       "      <td>Hampton</td>\n",
       "      <td>0.000000</td>\n",
       "      <td>271.444083</td>\n",
       "    </tr>\n",
       "    <tr>\n",
       "      <th>38</th>\n",
       "      <td>Eastford</td>\n",
       "      <td>1790</td>\n",
       "      <td>14</td>\n",
       "      <td>782.0</td>\n",
       "      <td>1</td>\n",
       "      <td>Eastford</td>\n",
       "      <td>0</td>\n",
       "      <td>0</td>\n",
       "      <td>0</td>\n",
       "      <td>0</td>\n",
       "      <td>0</td>\n",
       "      <td>Eastford</td>\n",
       "      <td>55.865922</td>\n",
       "      <td>0.000000</td>\n",
       "    </tr>\n",
       "    <tr>\n",
       "      <th>122</th>\n",
       "      <td>Scotland</td>\n",
       "      <td>1672</td>\n",
       "      <td>0</td>\n",
       "      <td>0.0</td>\n",
       "      <td>0</td>\n",
       "      <td>Scotland</td>\n",
       "      <td>41</td>\n",
       "      <td>19</td>\n",
       "      <td>32</td>\n",
       "      <td>0</td>\n",
       "      <td>92</td>\n",
       "      <td>Scotland</td>\n",
       "      <td>0.000000</td>\n",
       "      <td>5502.392344</td>\n",
       "    </tr>\n",
       "    <tr>\n",
       "      <th>148</th>\n",
       "      <td>Warren</td>\n",
       "      <td>1395</td>\n",
       "      <td>5</td>\n",
       "      <td>357.0</td>\n",
       "      <td>0</td>\n",
       "      <td>Warren</td>\n",
       "      <td>64</td>\n",
       "      <td>35</td>\n",
       "      <td>42</td>\n",
       "      <td>0</td>\n",
       "      <td>141</td>\n",
       "      <td>Warren</td>\n",
       "      <td>0.000000</td>\n",
       "      <td>10107.526882</td>\n",
       "    </tr>\n",
       "    <tr>\n",
       "      <th>30</th>\n",
       "      <td>Cornwall</td>\n",
       "      <td>1362</td>\n",
       "      <td>6</td>\n",
       "      <td>439.0</td>\n",
       "      <td>0</td>\n",
       "      <td>Cornwall</td>\n",
       "      <td>11</td>\n",
       "      <td>2</td>\n",
       "      <td>7</td>\n",
       "      <td>0</td>\n",
       "      <td>20</td>\n",
       "      <td>Cornwall</td>\n",
       "      <td>0.000000</td>\n",
       "      <td>1468.428781</td>\n",
       "    </tr>\n",
       "    <tr>\n",
       "      <th>20</th>\n",
       "      <td>Canaan</td>\n",
       "      <td>1053</td>\n",
       "      <td>0</td>\n",
       "      <td>0.0</td>\n",
       "      <td>0</td>\n",
       "      <td>Canaan</td>\n",
       "      <td>1</td>\n",
       "      <td>0</td>\n",
       "      <td>0</td>\n",
       "      <td>0</td>\n",
       "      <td>1</td>\n",
       "      <td>Canaan</td>\n",
       "      <td>0.000000</td>\n",
       "      <td>94.966762</td>\n",
       "    </tr>\n",
       "  </tbody>\n",
       "</table>\n",
       "</div>"
      ],
      "text/plain": [
       "             Town  Population  Total cases   Case rate  Total deaths  \\\n",
       "153     Westbrook        6869            38      550.0             0   \n",
       "149    Washington        3428            30      874.0             2   \n",
       "99   North Canaan        3251            12      369.0             1   \n",
       "0         Andover        3236            10      310.0             0   \n",
       "12         Bozrah        2726            16      631.0             1   \n",
       "86         Morris        2254            15      663.0             0   \n",
       "52       Franklin        1920            18      931.0             0   \n",
       "62        Hampton        1842             8      432.0             0   \n",
       "38       Eastford        1790            14      782.0             1   \n",
       "122      Scotland        1672             0        0.0             0   \n",
       "148        Warren        1395             5      357.0             0   \n",
       "30       Cornwall        1362             6      439.0             0   \n",
       "20         Canaan        1053             0        0.0             0   \n",
       "\n",
       "               Town Name   ABs Processed for Registered Democrats  \\\n",
       "153  Westbrook                                                  0   \n",
       "149  Washington                                                 0   \n",
       "99   North Canaan                                               0   \n",
       "0    Andover                                                    0   \n",
       "12   Bozrah                                                     0   \n",
       "86   Morris                                                     0   \n",
       "52   Franklin                                                   0   \n",
       "62   Hampton                                                    4   \n",
       "38   Eastford                                                   0   \n",
       "122  Scotland                                                  41   \n",
       "148  Warren                                                    64   \n",
       "30   Cornwall                                                  11   \n",
       "20   Canaan                                                     1   \n",
       "\n",
       "     ABs Processed for Registered Republicans  \\\n",
       "153                                         2   \n",
       "149                                         0   \n",
       "99                                          0   \n",
       "0                                           0   \n",
       "12                                          0   \n",
       "86                                          0   \n",
       "52                                          0   \n",
       "62                                          0   \n",
       "38                                          0   \n",
       "122                                        19   \n",
       "148                                        35   \n",
       "30                                          2   \n",
       "20                                          0   \n",
       "\n",
       "     ABs Processed for Registered Unaffiliated Voters  \\\n",
       "153                                                 1   \n",
       "149                                                 0   \n",
       "99                                                  0   \n",
       "0                                                   0   \n",
       "12                                                  0   \n",
       "86                                                  0   \n",
       "52                                                  0   \n",
       "62                                                  1   \n",
       "38                                                  0   \n",
       "122                                                32   \n",
       "148                                                42   \n",
       "30                                                  7   \n",
       "20                                                  0   \n",
       "\n",
       "     ABs Processed for  Voters Registered in Other Parties  \\\n",
       "153                                                  0       \n",
       "149                                                  0       \n",
       "99                                                   0       \n",
       "0                                                    0       \n",
       "12                                                   0       \n",
       "86                                                   0       \n",
       "52                                                   0       \n",
       "62                                                   0       \n",
       "38                                                   0       \n",
       "122                                                  0       \n",
       "148                                                  0       \n",
       "30                                                   0       \n",
       "20                                                   0       \n",
       "\n",
       "     Total ABs Processed     Town Name  Death_rate_per_100000  \\\n",
       "153                    3     Westbrook               0.000000   \n",
       "149                    0    Washington              58.343057   \n",
       "99                     0  North Canaan              30.759766   \n",
       "0                      0       Andover               0.000000   \n",
       "12                     0        Bozrah              36.683786   \n",
       "86                     0        Morris               0.000000   \n",
       "52                     0      Franklin               0.000000   \n",
       "62                     5       Hampton               0.000000   \n",
       "38                     0      Eastford              55.865922   \n",
       "122                   92      Scotland               0.000000   \n",
       "148                  141        Warren               0.000000   \n",
       "30                    20      Cornwall               0.000000   \n",
       "20                     1        Canaan               0.000000   \n",
       "\n",
       "     Total_ABs_per_100000  \n",
       "153             43.674480  \n",
       "149              0.000000  \n",
       "99               0.000000  \n",
       "0                0.000000  \n",
       "12               0.000000  \n",
       "86               0.000000  \n",
       "52               0.000000  \n",
       "62             271.444083  \n",
       "38               0.000000  \n",
       "122           5502.392344  \n",
       "148          10107.526882  \n",
       "30            1468.428781  \n",
       "20              94.966762  "
      ]
     },
     "execution_count": 141,
     "metadata": {},
     "output_type": "execute_result"
    }
   ],
   "source": [
    "df_final[(df_final['ABs Processed for Registered Republicans']==0)|(df_final['ABs Processed for Registered Democrats']==0)|(df_final['ABs Processed for Registered Unaffiliated Voters']==0)|(df_final['ABs Processed for  Voters Registered in Other Parties']==0)|(df_final['Total ABs Processed']==0)].sort_values(by='Population', ascending=False)"
   ]
  },
  {
   "cell_type": "code",
   "execution_count": 147,
   "metadata": {},
   "outputs": [
    {
     "data": {
      "text/html": [
       "<div>\n",
       "<style scoped>\n",
       "    .dataframe tbody tr th:only-of-type {\n",
       "        vertical-align: middle;\n",
       "    }\n",
       "\n",
       "    .dataframe tbody tr th {\n",
       "        vertical-align: top;\n",
       "    }\n",
       "\n",
       "    .dataframe thead th {\n",
       "        text-align: right;\n",
       "    }\n",
       "</style>\n",
       "<table border=\"1\" class=\"dataframe\">\n",
       "  <thead>\n",
       "    <tr style=\"text-align: right;\">\n",
       "      <th></th>\n",
       "      <th>Town</th>\n",
       "      <th>Population</th>\n",
       "      <th>Total cases</th>\n",
       "      <th>Case rate</th>\n",
       "      <th>Total deaths</th>\n",
       "      <th>Town Name</th>\n",
       "      <th>ABs Processed for Registered Democrats</th>\n",
       "      <th>ABs Processed for Registered Republicans</th>\n",
       "      <th>ABs Processed for Registered Unaffiliated Voters</th>\n",
       "      <th>ABs Processed for  Voters Registered in Other Parties</th>\n",
       "      <th>Total ABs Processed</th>\n",
       "      <th>Town Name</th>\n",
       "      <th>Death_rate_per_100000</th>\n",
       "      <th>Total_ABs_per_100000</th>\n",
       "    </tr>\n",
       "  </thead>\n",
       "  <tbody>\n",
       "    <tr>\n",
       "      <th>137</th>\n",
       "      <td>Stratford</td>\n",
       "      <td>51849</td>\n",
       "      <td>966</td>\n",
       "      <td>1859.0</td>\n",
       "      <td>79</td>\n",
       "      <td>Stratford</td>\n",
       "      <td>50</td>\n",
       "      <td>8</td>\n",
       "      <td>35</td>\n",
       "      <td>1</td>\n",
       "      <td>94</td>\n",
       "      <td>Stratford</td>\n",
       "      <td>152.365523</td>\n",
       "      <td>181.295686</td>\n",
       "    </tr>\n",
       "    <tr>\n",
       "      <th>71</th>\n",
       "      <td>Ledyard</td>\n",
       "      <td>14621</td>\n",
       "      <td>56</td>\n",
       "      <td>380.0</td>\n",
       "      <td>2</td>\n",
       "      <td>Ledyard</td>\n",
       "      <td>11</td>\n",
       "      <td>12</td>\n",
       "      <td>9</td>\n",
       "      <td>1</td>\n",
       "      <td>33</td>\n",
       "      <td>Ledyard</td>\n",
       "      <td>13.678955</td>\n",
       "      <td>225.702756</td>\n",
       "    </tr>\n",
       "    <tr>\n",
       "      <th>153</th>\n",
       "      <td>Westbrook</td>\n",
       "      <td>6869</td>\n",
       "      <td>38</td>\n",
       "      <td>550.0</td>\n",
       "      <td>0</td>\n",
       "      <td>Westbrook</td>\n",
       "      <td>0</td>\n",
       "      <td>2</td>\n",
       "      <td>1</td>\n",
       "      <td>0</td>\n",
       "      <td>3</td>\n",
       "      <td>Westbrook</td>\n",
       "      <td>0.000000</td>\n",
       "      <td>43.674480</td>\n",
       "    </tr>\n",
       "    <tr>\n",
       "      <th>159</th>\n",
       "      <td>Willington</td>\n",
       "      <td>5864</td>\n",
       "      <td>25</td>\n",
       "      <td>425.0</td>\n",
       "      <td>0</td>\n",
       "      <td>Willington</td>\n",
       "      <td>40</td>\n",
       "      <td>14</td>\n",
       "      <td>31</td>\n",
       "      <td>2</td>\n",
       "      <td>87</td>\n",
       "      <td>Willington</td>\n",
       "      <td>0.000000</td>\n",
       "      <td>1483.628922</td>\n",
       "    </tr>\n",
       "    <tr>\n",
       "      <th>149</th>\n",
       "      <td>Washington</td>\n",
       "      <td>3428</td>\n",
       "      <td>30</td>\n",
       "      <td>874.0</td>\n",
       "      <td>2</td>\n",
       "      <td>Washington</td>\n",
       "      <td>0</td>\n",
       "      <td>0</td>\n",
       "      <td>0</td>\n",
       "      <td>0</td>\n",
       "      <td>0</td>\n",
       "      <td>Washington</td>\n",
       "      <td>58.343057</td>\n",
       "      <td>0.000000</td>\n",
       "    </tr>\n",
       "    <tr>\n",
       "      <th>99</th>\n",
       "      <td>North Canaan</td>\n",
       "      <td>3251</td>\n",
       "      <td>12</td>\n",
       "      <td>369.0</td>\n",
       "      <td>1</td>\n",
       "      <td>North Canaan</td>\n",
       "      <td>0</td>\n",
       "      <td>0</td>\n",
       "      <td>0</td>\n",
       "      <td>0</td>\n",
       "      <td>0</td>\n",
       "      <td>North Canaan</td>\n",
       "      <td>30.759766</td>\n",
       "      <td>0.000000</td>\n",
       "    </tr>\n",
       "    <tr>\n",
       "      <th>0</th>\n",
       "      <td>Andover</td>\n",
       "      <td>3236</td>\n",
       "      <td>10</td>\n",
       "      <td>310.0</td>\n",
       "      <td>0</td>\n",
       "      <td>Andover</td>\n",
       "      <td>0</td>\n",
       "      <td>0</td>\n",
       "      <td>0</td>\n",
       "      <td>0</td>\n",
       "      <td>0</td>\n",
       "      <td>Andover</td>\n",
       "      <td>0.000000</td>\n",
       "      <td>0.000000</td>\n",
       "    </tr>\n",
       "    <tr>\n",
       "      <th>12</th>\n",
       "      <td>Bozrah</td>\n",
       "      <td>2726</td>\n",
       "      <td>16</td>\n",
       "      <td>631.0</td>\n",
       "      <td>1</td>\n",
       "      <td>Bozrah</td>\n",
       "      <td>0</td>\n",
       "      <td>0</td>\n",
       "      <td>0</td>\n",
       "      <td>0</td>\n",
       "      <td>0</td>\n",
       "      <td>Bozrah</td>\n",
       "      <td>36.683786</td>\n",
       "      <td>0.000000</td>\n",
       "    </tr>\n",
       "    <tr>\n",
       "      <th>86</th>\n",
       "      <td>Morris</td>\n",
       "      <td>2254</td>\n",
       "      <td>15</td>\n",
       "      <td>663.0</td>\n",
       "      <td>0</td>\n",
       "      <td>Morris</td>\n",
       "      <td>0</td>\n",
       "      <td>0</td>\n",
       "      <td>0</td>\n",
       "      <td>0</td>\n",
       "      <td>0</td>\n",
       "      <td>Morris</td>\n",
       "      <td>0.000000</td>\n",
       "      <td>0.000000</td>\n",
       "    </tr>\n",
       "    <tr>\n",
       "      <th>52</th>\n",
       "      <td>Franklin</td>\n",
       "      <td>1920</td>\n",
       "      <td>18</td>\n",
       "      <td>931.0</td>\n",
       "      <td>0</td>\n",
       "      <td>Franklin</td>\n",
       "      <td>0</td>\n",
       "      <td>0</td>\n",
       "      <td>0</td>\n",
       "      <td>0</td>\n",
       "      <td>0</td>\n",
       "      <td>Franklin</td>\n",
       "      <td>0.000000</td>\n",
       "      <td>0.000000</td>\n",
       "    </tr>\n",
       "    <tr>\n",
       "      <th>62</th>\n",
       "      <td>Hampton</td>\n",
       "      <td>1842</td>\n",
       "      <td>8</td>\n",
       "      <td>432.0</td>\n",
       "      <td>0</td>\n",
       "      <td>Hampton</td>\n",
       "      <td>4</td>\n",
       "      <td>0</td>\n",
       "      <td>1</td>\n",
       "      <td>0</td>\n",
       "      <td>5</td>\n",
       "      <td>Hampton</td>\n",
       "      <td>0.000000</td>\n",
       "      <td>271.444083</td>\n",
       "    </tr>\n",
       "    <tr>\n",
       "      <th>38</th>\n",
       "      <td>Eastford</td>\n",
       "      <td>1790</td>\n",
       "      <td>14</td>\n",
       "      <td>782.0</td>\n",
       "      <td>1</td>\n",
       "      <td>Eastford</td>\n",
       "      <td>0</td>\n",
       "      <td>0</td>\n",
       "      <td>0</td>\n",
       "      <td>0</td>\n",
       "      <td>0</td>\n",
       "      <td>Eastford</td>\n",
       "      <td>55.865922</td>\n",
       "      <td>0.000000</td>\n",
       "    </tr>\n",
       "    <tr>\n",
       "      <th>122</th>\n",
       "      <td>Scotland</td>\n",
       "      <td>1672</td>\n",
       "      <td>0</td>\n",
       "      <td>0.0</td>\n",
       "      <td>0</td>\n",
       "      <td>Scotland</td>\n",
       "      <td>41</td>\n",
       "      <td>19</td>\n",
       "      <td>32</td>\n",
       "      <td>0</td>\n",
       "      <td>92</td>\n",
       "      <td>Scotland</td>\n",
       "      <td>0.000000</td>\n",
       "      <td>5502.392344</td>\n",
       "    </tr>\n",
       "    <tr>\n",
       "      <th>30</th>\n",
       "      <td>Cornwall</td>\n",
       "      <td>1362</td>\n",
       "      <td>6</td>\n",
       "      <td>439.0</td>\n",
       "      <td>0</td>\n",
       "      <td>Cornwall</td>\n",
       "      <td>11</td>\n",
       "      <td>2</td>\n",
       "      <td>7</td>\n",
       "      <td>0</td>\n",
       "      <td>20</td>\n",
       "      <td>Cornwall</td>\n",
       "      <td>0.000000</td>\n",
       "      <td>1468.428781</td>\n",
       "    </tr>\n",
       "    <tr>\n",
       "      <th>20</th>\n",
       "      <td>Canaan</td>\n",
       "      <td>1053</td>\n",
       "      <td>0</td>\n",
       "      <td>0.0</td>\n",
       "      <td>0</td>\n",
       "      <td>Canaan</td>\n",
       "      <td>1</td>\n",
       "      <td>0</td>\n",
       "      <td>0</td>\n",
       "      <td>0</td>\n",
       "      <td>1</td>\n",
       "      <td>Canaan</td>\n",
       "      <td>0.000000</td>\n",
       "      <td>94.966762</td>\n",
       "    </tr>\n",
       "    <tr>\n",
       "      <th>144</th>\n",
       "      <td>Union</td>\n",
       "      <td>839</td>\n",
       "      <td>5</td>\n",
       "      <td>595.0</td>\n",
       "      <td>0</td>\n",
       "      <td>Union</td>\n",
       "      <td>32</td>\n",
       "      <td>19</td>\n",
       "      <td>20</td>\n",
       "      <td>2</td>\n",
       "      <td>73</td>\n",
       "      <td>Union</td>\n",
       "      <td>0.000000</td>\n",
       "      <td>8700.834327</td>\n",
       "    </tr>\n",
       "  </tbody>\n",
       "</table>\n",
       "</div>"
      ],
      "text/plain": [
       "             Town  Population  Total cases   Case rate  Total deaths  \\\n",
       "137     Stratford       51849           966     1859.0            79   \n",
       "71        Ledyard       14621            56      380.0             2   \n",
       "153     Westbrook        6869            38      550.0             0   \n",
       "159    Willington        5864            25      425.0             0   \n",
       "149    Washington        3428            30      874.0             2   \n",
       "99   North Canaan        3251            12      369.0             1   \n",
       "0         Andover        3236            10      310.0             0   \n",
       "12         Bozrah        2726            16      631.0             1   \n",
       "86         Morris        2254            15      663.0             0   \n",
       "52       Franklin        1920            18      931.0             0   \n",
       "62        Hampton        1842             8      432.0             0   \n",
       "38       Eastford        1790            14      782.0             1   \n",
       "122      Scotland        1672             0        0.0             0   \n",
       "30       Cornwall        1362             6      439.0             0   \n",
       "20         Canaan        1053             0        0.0             0   \n",
       "144         Union         839             5      595.0             0   \n",
       "\n",
       "               Town Name   ABs Processed for Registered Democrats  \\\n",
       "137  Stratford                                                 50   \n",
       "71   Ledyard                                                   11   \n",
       "153  Westbrook                                                  0   \n",
       "159  Willington                                                40   \n",
       "149  Washington                                                 0   \n",
       "99   North Canaan                                               0   \n",
       "0    Andover                                                    0   \n",
       "12   Bozrah                                                     0   \n",
       "86   Morris                                                     0   \n",
       "52   Franklin                                                   0   \n",
       "62   Hampton                                                    4   \n",
       "38   Eastford                                                   0   \n",
       "122  Scotland                                                  41   \n",
       "30   Cornwall                                                  11   \n",
       "20   Canaan                                                     1   \n",
       "144  Union                                                     32   \n",
       "\n",
       "     ABs Processed for Registered Republicans  \\\n",
       "137                                         8   \n",
       "71                                         12   \n",
       "153                                         2   \n",
       "159                                        14   \n",
       "149                                         0   \n",
       "99                                          0   \n",
       "0                                           0   \n",
       "12                                          0   \n",
       "86                                          0   \n",
       "52                                          0   \n",
       "62                                          0   \n",
       "38                                          0   \n",
       "122                                        19   \n",
       "30                                          2   \n",
       "20                                          0   \n",
       "144                                        19   \n",
       "\n",
       "     ABs Processed for Registered Unaffiliated Voters  \\\n",
       "137                                                35   \n",
       "71                                                  9   \n",
       "153                                                 1   \n",
       "159                                                31   \n",
       "149                                                 0   \n",
       "99                                                  0   \n",
       "0                                                   0   \n",
       "12                                                  0   \n",
       "86                                                  0   \n",
       "52                                                  0   \n",
       "62                                                  1   \n",
       "38                                                  0   \n",
       "122                                                32   \n",
       "30                                                  7   \n",
       "20                                                  0   \n",
       "144                                                20   \n",
       "\n",
       "     ABs Processed for  Voters Registered in Other Parties  \\\n",
       "137                                                  1       \n",
       "71                                                   1       \n",
       "153                                                  0       \n",
       "159                                                  2       \n",
       "149                                                  0       \n",
       "99                                                   0       \n",
       "0                                                    0       \n",
       "12                                                   0       \n",
       "86                                                   0       \n",
       "52                                                   0       \n",
       "62                                                   0       \n",
       "38                                                   0       \n",
       "122                                                  0       \n",
       "30                                                   0       \n",
       "20                                                   0       \n",
       "144                                                  2       \n",
       "\n",
       "     Total ABs Processed     Town Name  Death_rate_per_100000  \\\n",
       "137                   94     Stratford             152.365523   \n",
       "71                    33       Ledyard              13.678955   \n",
       "153                    3     Westbrook               0.000000   \n",
       "159                   87    Willington               0.000000   \n",
       "149                    0    Washington              58.343057   \n",
       "99                     0  North Canaan              30.759766   \n",
       "0                      0       Andover               0.000000   \n",
       "12                     0        Bozrah              36.683786   \n",
       "86                     0        Morris               0.000000   \n",
       "52                     0      Franklin               0.000000   \n",
       "62                     5       Hampton               0.000000   \n",
       "38                     0      Eastford              55.865922   \n",
       "122                   92      Scotland               0.000000   \n",
       "30                    20      Cornwall               0.000000   \n",
       "20                     1        Canaan               0.000000   \n",
       "144                   73         Union               0.000000   \n",
       "\n",
       "     Total_ABs_per_100000  \n",
       "137            181.295686  \n",
       "71             225.702756  \n",
       "153             43.674480  \n",
       "159           1483.628922  \n",
       "149              0.000000  \n",
       "99               0.000000  \n",
       "0                0.000000  \n",
       "12               0.000000  \n",
       "86               0.000000  \n",
       "52               0.000000  \n",
       "62             271.444083  \n",
       "38               0.000000  \n",
       "122           5502.392344  \n",
       "30            1468.428781  \n",
       "20              94.966762  \n",
       "144           8700.834327  "
      ]
     },
     "execution_count": 147,
     "metadata": {},
     "output_type": "execute_result"
    }
   ],
   "source": [
    "df_final[df_final['Total ABs Processed']<100].sort_values(by='Population', ascending=False)\n"
   ]
  }
 ],
 "metadata": {
  "kernelspec": {
   "display_name": "Python 3",
   "language": "python",
   "name": "python3"
  },
  "language_info": {
   "codemirror_mode": {
    "name": "ipython",
    "version": 3
   },
   "file_extension": ".py",
   "mimetype": "text/x-python",
   "name": "python",
   "nbconvert_exporter": "python",
   "pygments_lexer": "ipython3",
   "version": "3.7.1"
  }
 },
 "nbformat": 4,
 "nbformat_minor": 4
}
